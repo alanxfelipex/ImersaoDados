{
 "cells": [
  {
   "cell_type": "code",
   "execution_count": 1,
   "metadata": {
    "id": "hz9yn4dWQKf9"
   },
   "outputs": [],
   "source": [
    "import pandas as pd\n",
    "url = \"https://gist.githubusercontent.com/tgcsantos/3bdb29eba6ce391e90df2b72205ba891/raw/22fa920e80c9fa209a9fccc8b52d74cc95d1599b/dados_imoveis.csv\"\n",
    "dados = pd.read_csv(url)"
   ]
  },
  {
   "cell_type": "code",
   "execution_count": null,
   "metadata": {
    "colab": {
     "base_uri": "https://localhost:8080/",
     "height": 206
    },
    "id": "7e2Kmt74QnFZ",
    "outputId": "aef857ce-e5d2-4c68-882f-ae3375674ac4"
   },
   "outputs": [],
   "source": [
    "dados.head()"
   ]
  },
  {
   "cell_type": "code",
   "execution_count": null,
   "metadata": {
    "colab": {
     "base_uri": "https://localhost:8080/",
     "height": 363
    },
    "id": "_RTJqQIiShML",
    "outputId": "b5382928-8479-404d-fd7b-9a0b9660bdcc"
   },
   "outputs": [],
   "source": [
    "dados.sample(10)"
   ]
  },
  {
   "cell_type": "code",
   "execution_count": 2,
   "metadata": {
    "colab": {
     "base_uri": "https://localhost:8080/"
    },
    "id": "PSqqMKMqUcFZ",
    "outputId": "14104545-0fdd-4b67-cbce-96914083d94a"
   },
   "outputs": [
    {
     "name": "stdout",
     "output_type": "stream",
     "text": [
      "<class 'pandas.core.frame.DataFrame'>\n",
      "RangeIndex: 10008 entries, 0 to 10007\n",
      "Data columns (total 8 columns):\n",
      " #   Column     Non-Null Count  Dtype \n",
      "---  ------     --------------  ----- \n",
      " 0   Rua        6574 non-null   object\n",
      " 1   Bairro     9996 non-null   object\n",
      " 2   Cidade     10008 non-null  object\n",
      " 3   Metragem   10008 non-null  int64 \n",
      " 4   Quartos    10008 non-null  int64 \n",
      " 5   Banheiros  10008 non-null  int64 \n",
      " 6   Vagas      10008 non-null  int64 \n",
      " 7   Valor      10008 non-null  object\n",
      "dtypes: int64(4), object(4)\n",
      "memory usage: 625.6+ KB\n"
     ]
    }
   ],
   "source": [
    "dados.info()"
   ]
  },
  {
   "cell_type": "code",
   "execution_count": null,
   "metadata": {
    "colab": {
     "base_uri": "https://localhost:8080/",
     "height": 36
    },
    "id": "P9rkcINCSiai",
    "outputId": "e93aeba4-a93d-4bc9-9bfd-01ccb91efbec"
   },
   "outputs": [],
   "source": [
    "dados[\"Bairro\"][6522]"
   ]
  },
  {
   "cell_type": "code",
   "execution_count": null,
   "metadata": {
    "colab": {
     "base_uri": "https://localhost:8080/"
    },
    "id": "FYtNWwbkTopx",
    "outputId": "906710b7-6d81-4b4f-c54d-248e8ff2233c"
   },
   "outputs": [],
   "source": [
    "dados.Metragem.mean()"
   ]
  },
  {
   "cell_type": "code",
   "execution_count": null,
   "metadata": {
    "colab": {
     "base_uri": "https://localhost:8080/"
    },
    "id": "CZtnuG1wVDqg",
    "outputId": "ce057f62-4d02-4cae-8fda-0bc54f114544"
   },
   "outputs": [],
   "source": [
    "dados[\"Metragem\"].mean()"
   ]
  },
  {
   "cell_type": "code",
   "execution_count": null,
   "metadata": {
    "colab": {
     "base_uri": "https://localhost:8080/"
    },
    "id": "W-LPCx0qVzvS",
    "outputId": "fa2e1838-0472-4dbb-8326-518e22cb3598"
   },
   "outputs": [],
   "source": [
    "sum((dados[\"Bairro\"] == \"Vila Mariana\"))"
   ]
  },
  {
   "cell_type": "code",
   "execution_count": null,
   "metadata": {
    "colab": {
     "base_uri": "https://localhost:8080/"
    },
    "id": "VPAYgHC3WQmy",
    "outputId": "7bf932cd-d17e-400f-abb8-bfababa7e07b"
   },
   "outputs": [],
   "source": [
    "tem_imoveis_vila =( dados[\"Bairro\"] == \"Vila Mariana\")\n",
    "tem_imoveis_vila"
   ]
  },
  {
   "cell_type": "code",
   "execution_count": null,
   "metadata": {
    "colab": {
     "base_uri": "https://localhost:8080/",
     "height": 423
    },
    "id": "2DnvKduJW39N",
    "outputId": "c3d6991d-ae7e-4885-855a-206a453c89ac"
   },
   "outputs": [],
   "source": [
    "imoveis_vila_mariana = dados[tem_imoveis_vila]\n",
    "imoveis_vila_mariana"
   ]
  },
  {
   "cell_type": "code",
   "execution_count": null,
   "metadata": {
    "colab": {
     "base_uri": "https://localhost:8080/"
    },
    "id": "KAZjmOobXJk8",
    "outputId": "4f97f927-13bc-4afb-cae0-023f4dc967c6"
   },
   "outputs": [],
   "source": [
    "imoveis_vila_mariana[\"Metragem\"].mean()"
   ]
  },
  {
   "cell_type": "code",
   "execution_count": null,
   "metadata": {
    "colab": {
     "base_uri": "https://localhost:8080/"
    },
    "id": "pAiOk2ZbXYK8",
    "outputId": "4dc33789-ec5f-4e1d-ac9d-b9038193c05c"
   },
   "outputs": [],
   "source": [
    "dados[\"Bairro\"].value_counts()"
   ]
  },
  {
   "cell_type": "code",
   "execution_count": null,
   "metadata": {
    "colab": {
     "base_uri": "https://localhost:8080/",
     "height": 358
    },
    "id": "2uGH9Ug2Yy4h",
    "outputId": "948e6dc0-ea02-4ba8-fc0f-edb0a45cf906"
   },
   "outputs": [],
   "source": [
    "n_imoveis_bairro = dados[\"Bairro\"].value_counts()\n",
    "n_imoveis_bairro.head(10).plot.bar()"
   ]
  },
  {
   "cell_type": "markdown",
   "metadata": {
    "id": "ECNTtjSsaTu-"
   },
   "source": [
    "Desafios:\n",
    "\n",
    "1 - Realizar a média da metragem para cara um dos bairros (Paulo)\n",
    "\n",
    "2 - 2 formas de selecionar os dados por bairro (consultar os métodos na documentação do pandas) (Thiago)\n",
    "\n",
    "3 - Explorar alguns gráficos na documentação e aplicar nas demais colunas do DF, tentar colocar alguma conclusão (Thiago)\n",
    "\n",
    "4 - Pegar outros estatísticas dos dados, média, mediana, mim, max (Vivi)\n",
    "\n",
    "5 - Descobrir quais são os bairros que não tem nome de Rua. (Vivi)"
   ]
  },
  {
   "cell_type": "code",
   "execution_count": null,
   "metadata": {
    "id": "zKpdD2UxZXNv"
   },
   "outputs": [],
   "source": [
    "# 1) Realizar a média da metragem para cara um dos bairros\n",
    "\n",
    "# Usando o método groupby, foi agrupado a coluna que quero (nesse caso o [Bairro]) e tiro a média (por causa do .mean() no final) \n",
    "# das outras selecionadas (nesse caso a ['Metragem']). Se as_index fosse True, os nomes dos bairros se tornariam o indíce.\n",
    "# Usando as_index como False, os números continuam sendo o indíce. \n",
    "\n",
    "metragem_bairro = dados[['Bairro', 'Metragem']].groupby('Bairro', as_index=False).mean()\n",
    "metragem_bairro"
   ]
  },
  {
   "cell_type": "code",
   "execution_count": null,
   "metadata": {},
   "outputs": [],
   "source": [
    "# 2) 2 formas de selecionar os dados por bairro (consultar os métodos na documentação do pandas\n",
    "\n",
    "# A primeira forma é usando o == e filtrando o bairro que deseja \n",
    "a = dados[dados[\"Bairro\"] == \"Vila Mariana\"]\n",
    "a"
   ]
  },
  {
   "cell_type": "code",
   "execution_count": null,
   "metadata": {},
   "outputs": [],
   "source": [
    "# A segunda é usando a função query e filtrando apenas o bairro que quero\n",
    "\n",
    "b = dados.query('Bairro == \"Vila Mariana\"')\n",
    "b"
   ]
  },
  {
   "cell_type": "code",
   "execution_count": 14,
   "metadata": {},
   "outputs": [
    {
     "data": {
      "text/html": [
       "<div>\n",
       "<style scoped>\n",
       "    .dataframe tbody tr th:only-of-type {\n",
       "        vertical-align: middle;\n",
       "    }\n",
       "\n",
       "    .dataframe tbody tr th {\n",
       "        vertical-align: top;\n",
       "    }\n",
       "\n",
       "    .dataframe thead th {\n",
       "        text-align: right;\n",
       "    }\n",
       "</style>\n",
       "<table border=\"1\" class=\"dataframe\">\n",
       "  <thead>\n",
       "    <tr style=\"text-align: right;\">\n",
       "      <th></th>\n",
       "      <th>Rua</th>\n",
       "      <th>Bairro</th>\n",
       "      <th>Cidade</th>\n",
       "      <th>Metragem</th>\n",
       "      <th>Quartos</th>\n",
       "      <th>Banheiros</th>\n",
       "      <th>Vagas</th>\n",
       "      <th>Valor</th>\n",
       "    </tr>\n",
       "  </thead>\n",
       "  <tbody>\n",
       "    <tr>\n",
       "      <th>9</th>\n",
       "      <td>Rua Tapaji</td>\n",
       "      <td>Vila Alpina</td>\n",
       "      <td>São Paulo</td>\n",
       "      <td>114</td>\n",
       "      <td>3</td>\n",
       "      <td>3</td>\n",
       "      <td>2</td>\n",
       "      <td>R$ 585.000</td>\n",
       "    </tr>\n",
       "    <tr>\n",
       "      <th>10</th>\n",
       "      <td>Rua Vigário João Álvares, 66</td>\n",
       "      <td>Vila Monumento</td>\n",
       "      <td>São Paulo</td>\n",
       "      <td>261</td>\n",
       "      <td>4</td>\n",
       "      <td>4</td>\n",
       "      <td>3</td>\n",
       "      <td>R$ 700.000</td>\n",
       "    </tr>\n",
       "    <tr>\n",
       "      <th>12</th>\n",
       "      <td>Rua Tuim, 449</td>\n",
       "      <td>Vila Uberabinha</td>\n",
       "      <td>São Paulo</td>\n",
       "      <td>193</td>\n",
       "      <td>3</td>\n",
       "      <td>3</td>\n",
       "      <td>2</td>\n",
       "      <td>R$ 2.500.000</td>\n",
       "    </tr>\n",
       "    <tr>\n",
       "      <th>16</th>\n",
       "      <td>Rua João Tauler</td>\n",
       "      <td>Vila Nova</td>\n",
       "      <td>São Paulo</td>\n",
       "      <td>180</td>\n",
       "      <td>4</td>\n",
       "      <td>2</td>\n",
       "      <td>4</td>\n",
       "      <td>R$ 420.000</td>\n",
       "    </tr>\n",
       "    <tr>\n",
       "      <th>19</th>\n",
       "      <td>Avenida Antônio Joaquim de Moura Andrade, 294</td>\n",
       "      <td>Vila Nova Conceição</td>\n",
       "      <td>São Paulo</td>\n",
       "      <td>605</td>\n",
       "      <td>3</td>\n",
       "      <td>3</td>\n",
       "      <td>4</td>\n",
       "      <td>R$ 4.190.000</td>\n",
       "    </tr>\n",
       "    <tr>\n",
       "      <th>...</th>\n",
       "      <td>...</td>\n",
       "      <td>...</td>\n",
       "      <td>...</td>\n",
       "      <td>...</td>\n",
       "      <td>...</td>\n",
       "      <td>...</td>\n",
       "      <td>...</td>\n",
       "      <td>...</td>\n",
       "    </tr>\n",
       "    <tr>\n",
       "      <th>10001</th>\n",
       "      <td>Rua Pedro Teixeira</td>\n",
       "      <td>Vila Olímpia</td>\n",
       "      <td>São Paulo</td>\n",
       "      <td>157</td>\n",
       "      <td>3</td>\n",
       "      <td>2</td>\n",
       "      <td>2</td>\n",
       "      <td>R$ 960.000</td>\n",
       "    </tr>\n",
       "    <tr>\n",
       "      <th>10003</th>\n",
       "      <td>Rua Tapuçu</td>\n",
       "      <td>Vila Sofia</td>\n",
       "      <td>São Paulo</td>\n",
       "      <td>95</td>\n",
       "      <td>2</td>\n",
       "      <td>2</td>\n",
       "      <td>2</td>\n",
       "      <td>R$ 665.000</td>\n",
       "    </tr>\n",
       "    <tr>\n",
       "      <th>10005</th>\n",
       "      <td>Rua Estero Belaco</td>\n",
       "      <td>Vila da Saúde</td>\n",
       "      <td>São Paulo</td>\n",
       "      <td>205</td>\n",
       "      <td>3</td>\n",
       "      <td>3</td>\n",
       "      <td>6</td>\n",
       "      <td>R$ 1.050.000</td>\n",
       "    </tr>\n",
       "    <tr>\n",
       "      <th>10006</th>\n",
       "      <td>Rua Manuel Onha, , 514</td>\n",
       "      <td>Vila Oratório</td>\n",
       "      <td>São Paulo</td>\n",
       "      <td>185</td>\n",
       "      <td>3</td>\n",
       "      <td>2</td>\n",
       "      <td>2</td>\n",
       "      <td>R$ 2.200\\n                      /Mês</td>\n",
       "    </tr>\n",
       "    <tr>\n",
       "      <th>10007</th>\n",
       "      <td>Rua Barão de Tramandaí, 0</td>\n",
       "      <td>Vila Alpina</td>\n",
       "      <td>São Paulo</td>\n",
       "      <td>122</td>\n",
       "      <td>3</td>\n",
       "      <td>2</td>\n",
       "      <td>2</td>\n",
       "      <td>R$ 270.000</td>\n",
       "    </tr>\n",
       "  </tbody>\n",
       "</table>\n",
       "<p>1763 rows × 8 columns</p>\n",
       "</div>"
      ],
      "text/plain": [
       "                                                  Rua               Bairro  \\\n",
       "9                                          Rua Tapaji          Vila Alpina   \n",
       "10                      Rua Vigário João Álvares, 66        Vila Monumento   \n",
       "12                                     Rua Tuim, 449       Vila Uberabinha   \n",
       "16                                    Rua João Tauler            Vila Nova   \n",
       "19     Avenida Antônio Joaquim de Moura Andrade, 294   Vila Nova Conceição   \n",
       "...                                               ...                  ...   \n",
       "10001                              Rua Pedro Teixeira         Vila Olímpia   \n",
       "10003                                      Rua Tapuçu           Vila Sofia   \n",
       "10005                               Rua Estero Belaco        Vila da Saúde   \n",
       "10006                         Rua Manuel Onha, , 514         Vila Oratório   \n",
       "10007                      Rua Barão de Tramandaí, 0           Vila Alpina   \n",
       "\n",
       "          Cidade  Metragem  Quartos  Banheiros  Vagas  \\\n",
       "9      São Paulo       114        3          3      2   \n",
       "10     São Paulo       261        4          4      3   \n",
       "12     São Paulo       193        3          3      2   \n",
       "16     São Paulo       180        4          2      4   \n",
       "19     São Paulo       605        3          3      4   \n",
       "...          ...       ...      ...        ...    ...   \n",
       "10001  São Paulo       157        3          2      2   \n",
       "10003  São Paulo        95        2          2      2   \n",
       "10005  São Paulo       205        3          3      6   \n",
       "10006  São Paulo       185        3          2      2   \n",
       "10007  São Paulo       122        3          2      2   \n",
       "\n",
       "                                      Valor  \n",
       "9                                R$ 585.000  \n",
       "10                               R$ 700.000  \n",
       "12                             R$ 2.500.000  \n",
       "16                               R$ 420.000  \n",
       "19                             R$ 4.190.000  \n",
       "...                                     ...  \n",
       "10001                            R$ 960.000  \n",
       "10003                            R$ 665.000  \n",
       "10005                          R$ 1.050.000  \n",
       "10006  R$ 2.200\\n                      /Mês  \n",
       "10007                            R$ 270.000  \n",
       "\n",
       "[1763 rows x 8 columns]"
      ]
     },
     "execution_count": 14,
     "metadata": {},
     "output_type": "execute_result"
    }
   ],
   "source": [
    "# Usando o str.contains() é possível verificar se existe um pedaço da palavra, como por exemplo os bairros que começam com vila\n",
    "\n",
    "c = dados[dados['Bairro'].str.contains('Vila')]\n",
    "c"
   ]
  },
  {
   "cell_type": "code",
   "execution_count": 15,
   "metadata": {},
   "outputs": [
    {
     "data": {
      "text/plain": [
       "<AxesSubplot:xlabel='Quartos', ylabel='Banheiros'>"
      ]
     },
     "execution_count": 15,
     "metadata": {},
     "output_type": "execute_result"
    },
    {
     "data": {
      "image/png": "[encoded data removed]",
      "text/plain": [
       "<Figure size 432x288 with 1 Axes>"
      ]
     },
     "metadata": {
      "needs_background": "light"
     },
     "output_type": "display_data"
    }
   ],
   "source": [
    "# 3 - Explorar alguns gráficos na documentação e aplicar nas demais colunas do DF, tentar colocar alguma conclusão\n",
    "\n",
    "img = dados[['Quartos', 'Banheiros']]\n",
    "img.plot.scatter(x='Quartos', y='Banheiros', c='red')"
   ]
  },
  {
   "cell_type": "code",
   "execution_count": null,
   "metadata": {},
   "outputs": [],
   "source": [
    "#4) Pegar outros estatísticas dos dados, média, mediana, mim, max \n",
    "\n",
    "print(f'A média da metragem é {dados[\"Metragem\"].mean()}')\n",
    "print(f'A mediana da metragem é {dados[\"Metragem\"].median()}')\n",
    "print(f'O valor máximo da metragem é {dados[\"Metragem\"].max()}')\n",
    "print(f'O valor mínimo da metragem é {dados[\"Metragem\"].min()}')"
   ]
  },
  {
   "cell_type": "code",
   "execution_count": 7,
   "metadata": {},
   "outputs": [
    {
     "data": {
      "text/plain": [
       "array(['Jardim Morumbi', 'Jardim Luzitânia', 'Parque da Lapa',\n",
       "       'Chácara Santo Antônio (Zona Sul)', 'Jardim Guedala',\n",
       "       'Vila Arriete', 'Alto de Pinheiros', 'Planalto Paulista',\n",
       "       'Vila Moinho Velho', 'Brooklin Paulista', 'Sumaré',\n",
       "       'Jardim Paulista', 'Vila Gustavo', 'Jardim Trussardi',\n",
       "       'Vila Madalena', 'Jardim dos Estados', 'Vila Santos',\n",
       "       'Jardim Europa', 'Butantã', 'Jardim Paulistano',\n",
       "       'Jardim Petrópolis', 'Vila Mariana', 'Vila Aparecida', 'Siciliano',\n",
       "       'Alto da Lapa', 'Jardim da Glória', 'Morumbi', 'Vila Ida',\n",
       "       'Cidade Jardim', 'Cidade Dutra', 'Água Fria', 'Parque Boturussu',\n",
       "       'Belenzinho', 'Vila Sônia', 'Jardim Panorama', 'Jardim Ampliação',\n",
       "       'Lauzane Paulista', 'Vila Sabrina', 'Vila Olímpia',\n",
       "       'Jardim Franca', 'Jardim Sílvia (Zona Oeste)', 'Santo Amaro',\n",
       "       'Mooca', 'Jardim América', 'Interlagos', 'Pacaembu',\n",
       "       'Jardim Santo Amaro', 'Vila Matilde', 'Vila Prudente',\n",
       "       'Vila Nova Conceição', 'Jardim Camargo Novo', 'Jardim Planalto',\n",
       "       'Santana', 'Jardim Patente Novo', 'Jardim das Camélias',\n",
       "       'Jardim Virginia Bianca', 'Jardim Viana',\n",
       "       'Jardim Célia (Zona Sul)', 'Parque Guarani', 'Vila Brasilina',\n",
       "       'Vila Antonieta', 'Vila Ema', 'Boaçava', 'Vila Morse',\n",
       "       'Itaim Bibi', 'Conjunto Residencial Vista Verde',\n",
       "       'Parque São Domingos', 'Jardim Leonor', 'Vila Albertina',\n",
       "       'Jardim Santo Elias', 'Vila Morumbi', 'Chácara Japonesa',\n",
       "       'Penha de França', 'Chácara Inglesa', 'City América', 'Pinheiros',\n",
       "       'Ipiranga', 'Jardim Everest', 'Vila Londrina', 'Vila Santa Maria',\n",
       "       'Cidade São Mateus', 'Paraíso', 'Tucuruvi', 'Vila Bertioga',\n",
       "       'Vila Cláudia', 'Vila Inah', 'Jardim Cordeiro', 'Fazenda Morumbi',\n",
       "       'Cidade Patriarca', 'Jardim Santa Maria', 'Chácara Monte Alegre',\n",
       "       'Parque Continental', 'Vila Sílvia', 'Bosque da Saúde',\n",
       "       'Jardim Celeste', 'Vila Comercial', 'Vila Monumento', 'Vila Gea',\n",
       "       'Vila Lageado', 'Vila Perus', 'Jardim Satélite', 'Cidade Monções',\n",
       "       'Consolação', 'Paineiras do Morumbi', 'Vila Progredior',\n",
       "       'Lapa de Baixo', 'Vila Araguaia', 'Vila Lúcia', 'Granja Julieta',\n",
       "       'Indianópolis', 'Jardim Prudência', 'Vila São Francisco',\n",
       "       'Lar São Paulo', 'Brooklin Novo', 'Perdizes', 'Cambuci', 'Lapa',\n",
       "       'Vila Palmeiras', 'Chácara Califórnia', 'Campo Belo',\n",
       "       'Instituto de Previdência', 'Vila Pompéia', 'Jardim Umuarama',\n",
       "       'Jardim Marajoara', 'Parque Colonial', 'Vila Leopoldina',\n",
       "       'Jardim Novo Mundo', 'Vila Tramontano', 'Jardim das Bandeiras',\n",
       "       'Jardim Monte Kemel', 'Vila Cordeiro', 'Retiro Morumbi',\n",
       "       'Vila Guarani (Z Sul)', 'Vila Cruzeiro', 'Sumarezinho',\n",
       "       'Itaberaba', 'Vila Salete', 'Chora Menino', 'Vila Campo Grande',\n",
       "       'Jardim Ana Maria', 'Vila Nova Caledonia', 'Vila Carbone',\n",
       "       'Vila Adalgisa', 'Mirandópolis', 'Jardim Bonfiglioli',\n",
       "       'Jardim Ester', 'Caxingui', 'Vila São Silvestre',\n",
       "       'Chácara Tatuapé', 'Real Parque', 'Cidade Domitila',\n",
       "       'Jardim Vila Mariana', \"Jardim Panorama D'Oeste\", 'Vila Suzana',\n",
       "       'Santa Cecília', 'Parque Residencial Oratorio', 'Parque da Mooca',\n",
       "       'Jardim Santa Cruz (Campo Grande)', 'Higienópolis',\n",
       "       'Jardim Triana', 'Moema', 'Cidade Centenário', 'Jaguaré',\n",
       "       'Jardim Miriam', 'Vila Oratório', 'Vila Clementino',\n",
       "       'Vila Ipojuca', 'Barra Funda', 'Jardim Petropolis',\n",
       "       'Jardim Vitória Régia', 'Vila Jacuí', 'Vila Califórnia(Zona Sul)',\n",
       "       'Vila Mafra', 'Vila Anhangüera', 'Jardim Consórcio', 'Vila Alpina',\n",
       "       'Jardim Rizzo', 'Vila Império', 'Vila Inglesa', 'Vila Nova Curuçá',\n",
       "       'Vila Paiva', 'Jardim Analia Franco', 'Saúde', 'Vila Prado',\n",
       "       'Tatuapé', 'Aclimação', 'Jardim Eliana', 'Paraíso do Morumbi',\n",
       "       'Jardim Teresa', 'Jardim Brasília (Zona Leste)', 'Jardim Danfer',\n",
       "       'Vila Romana', 'Vila Pedroso', 'Vila Brasílio Machado',\n",
       "       'Vila Anglo Brasileira', 'Vila Antônio', 'Chácara Meyer',\n",
       "       'Vila Paulicéia', 'Rio Pequeno', 'Jardim Santa Helena',\n",
       "       'Jardim Taboão', 'Parque Mandaqui', 'Capão Redondo',\n",
       "       'Vila Alexandria', 'Super Quadra Morumbi', 'Vila Ré',\n",
       "       'Parque Jabaquara', 'Jardim Londrina', 'Parque Novo Mundo',\n",
       "       'Jardim das Acácias', 'Vila Cardoso Franco', 'Jardim Campo Grande',\n",
       "       'Jardim Textil', 'Vila Mazzei', 'Vila Andrade', 'Jardim da Saúde',\n",
       "       'Jardim Colombo', 'Vila Nair', 'Quinta da Paineira',\n",
       "       'Jardim Gonzaga', 'Liberdade', 'Vila Carrão',\n",
       "       'Jardim Brasil (Zona Sul)', 'Parque São Lucas', 'Jardim Floresta',\n",
       "       'Chácara Mafalda', 'Vila ESão Pauloerança', 'Vila Nova Caledônia',\n",
       "       'Alto da Boa Vista', 'Vila Medeiros', 'Vila América',\n",
       "       'Vila Analia', 'Parque Santa Rita', 'Vila Moraes',\n",
       "       'Vila Rui Barbosa', 'Vila Bela', 'Jardim Amália',\n",
       "       'Parque da Vila Prudente', 'Vila Santana', 'Vila Canero',\n",
       "       'Vila Primavera', 'Brasilândia', 'Vila do Encontro',\n",
       "       'Jardim Ernestina', 'Jabaquara', 'Jardim Maria Duarte',\n",
       "       'Cidade Vargas', 'Jardim Hípico', 'Parada XV de Novembro',\n",
       "       'Jardim Bélgica', 'Jardim Jussara', 'Vila Formosa',\n",
       "       'Jardim São Carlos (Zona Sul)', 'Parque dos Príncipes',\n",
       "       'Vila Gomes Cardim', 'Vila Polopoli', 'Vila Macedópolis',\n",
       "       'Vila Virginia', 'Vila Boaçava', 'Água Branca', 'Bela Aliança',\n",
       "       'Tremembé', 'Cerqueira César', 'Jardim Cidade Pirituba',\n",
       "       'Vila Agueda', 'Vila Firmiano Pinto', 'Jardim Monte Alegre',\n",
       "       'Jardim Patente', 'Vila Buenos Aires', 'Jardim Jabaquara',\n",
       "       'Jardim Morro Verde', 'Vila Santa Catarina', 'Vila Califórnia',\n",
       "       'Jardim Ponte Rasa', 'Jardim Marília', 'Vila Guedes',\n",
       "       'Vila Congonhas', 'Jardim Vivan', 'Jardim Vila Carrão', 'Sacomã',\n",
       "       'Jardim Castelo', 'Vila Barbosa', 'Parque Imperial', 'Campininha',\n",
       "       'Jaraguá', 'Jardim Coimbra', 'Jardim Anália Franco',\n",
       "       'Vila Bancária Munhoz', 'Vila Ester (Zona Norte)', 'Brás',\n",
       "       'Alto da Mooca', 'Ferreira', 'Jardim Cidália', 'Cidade Ademar',\n",
       "       'Nova Piraju', \"Jardim D'Abril\", 'Paraisópolis',\n",
       "       'Parque Nações Unidas', 'Vila Gumercindo', 'Jardim Aeroporto',\n",
       "       'Brooklin', 'Vila Caraguatá', 'Jardim do Colégio (Zona Norte)',\n",
       "       'Parque Peruche', 'Chácara Belenzinho',\n",
       "       'Conjunto Residencial Butantã', 'Vila das Belezas',\n",
       "       'Burgo Paulista', 'Vila Paulista', 'Jardim Japão',\n",
       "       'Praia Paulistinha', 'Vila Antonina', 'Vila Sao Paulo',\n",
       "       'Vila Monte Alegre', 'Jardim Heliomar', 'Vila Ivg', 'Vila Curuçá',\n",
       "       'Vila Vera', 'Água Funda', 'Vila Romero', 'Vila Isa',\n",
       "       'Vila Talarico', 'Jardim Peri', 'Vila Dom Pedro I', 'Vila Simone',\n",
       "       'Vila Nivi', 'Vila São Paulo', 'Vila Bela Aliança',\n",
       "       'Vila São José (Ipiranga)', 'Vila Marieta', 'Vila das Mercês',\n",
       "       'Jardim Sarah', 'Vila Gomes', 'Vila Ayrosa', 'Jardim Dom Bosco',\n",
       "       'Parque Savoy City', 'Jardim Ester Yolanda', 'Chácara Flora',\n",
       "       'Vila Elvira', 'Vila Romano', 'Jardim Guarau',\n",
       "       'Vila Santo Estéfano', 'Vila Paulo Silas', 'Vila Carmosina',\n",
       "       'Jardim das Vertentes', 'Conjunto Residencial Morada do Sol',\n",
       "       'Jardim Tremembe', 'Parque Casa de Pedra', 'Vila Vasconcelos',\n",
       "       'Jardim Boa Vista (Zona Oeste)', 'Jardim Sul São Paulo',\n",
       "       'Jardim Vergueiro (Sacomã)', 'Vila Mira', 'Jardim Maria Estela',\n",
       "       'Jardim Rincão', 'Jardim Sabará', 'Aricanduva',\n",
       "       'Jardim Palmares (Zona Sul)', 'Vila Regente Feijó', 'Vila Darli',\n",
       "       'Jardim Nice', 'Vila Constancia', 'Jardim Pirituba', 'Vila Marari',\n",
       "       'Parque Maria Domitila', 'Parque Santo Antônio (Aricanduva)',\n",
       "       'Jardim Cidalia', 'Vila Tiradentes', 'Vila Sonia',\n",
       "       'Vila Gertrudes', 'Parque Edu Chaves', 'Parque São Rafael',\n",
       "       'Conjunto Habitacional Castro Alves', 'Cidade Mãe do Céu',\n",
       "       'Vila da Saúde', 'Itaquera', 'Vila Conde do Pinhal',\n",
       "       'Parque Monteiro Soares', 'Jardim Leonor Mendes de Barros',\n",
       "       'Vila Santa Clara', 'Sítio do Mandaqui', 'Jardim Independência',\n",
       "       'Vila Nova Pauliceia', 'Cidade Antônio Estevão de Carvalho',\n",
       "       'Vila Maria Alta', 'Vila Ponte Rasa', 'Jardim Guanca',\n",
       "       'Engenheiro Goulart', 'Vila Mascote', 'Jardim Vila Formosa',\n",
       "       'Cupecê', 'Jardim Itacolomi', 'Água Rasa', 'Parque Alves de Lima'],\n",
       "      dtype=object)"
      ]
     },
     "execution_count": 7,
     "metadata": {},
     "output_type": "execute_result"
    }
   ],
   "source": [
    "#5 - Descobrir quais são os bairros que não tem nome de Rua. (Vivi)\n",
    "\n",
    "sem_rua = dados['Rua'].isnull()\n",
    "dados_sem_rua = dados[sem_rua]\n",
    "dados_sem_rua['Bairro'].unique()"
   ]
  },
  {
   "cell_type": "code",
   "execution_count": 8,
   "metadata": {},
   "outputs": [
    {
     "data": {
      "text/plain": [
       "394"
      ]
     },
     "execution_count": 8,
     "metadata": {},
     "output_type": "execute_result"
    }
   ],
   "source": [
    "len(dados_sem_rua['Bairro'].unique())"
   ]
  },
  {
   "cell_type": "code",
   "execution_count": 9,
   "metadata": {},
   "outputs": [
    {
     "data": {
      "text/plain": [
       "702"
      ]
     },
     "execution_count": 9,
     "metadata": {},
     "output_type": "execute_result"
    }
   ],
   "source": [
    "len(dados['Bairro'].unique())"
   ]
  },
  {
   "cell_type": "code",
   "execution_count": null,
   "metadata": {},
   "outputs": [],
   "source": []
  }
 ],
 "metadata": {
  "colab": {
   "name": "Imersao_dados_4_aula01.ipynb",
   "provenance": []
  },
  "kernelspec": {
   "display_name": "Python 3 (ipykernel)",
   "language": "python",
   "name": "python3"
  },
  "language_info": {
   "codemirror_mode": {
    "name": "ipython",
    "version": 3
   },
   "file_extension": ".py",
   "mimetype": "text/x-python",
   "name": "python",
   "nbconvert_exporter": "python",
   "pygments_lexer": "ipython3",
   "version": "3.9.7"
  }
 },
 "nbformat": 4,
 "nbformat_minor": 1
}
