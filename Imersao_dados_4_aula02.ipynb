{
 "cells": [
  {
   "cell_type": "code",
   "execution_count": null,
   "metadata": {
    "id": "hz9yn4dWQKf9"
   },
   "outputs": [],
   "source": [
    "import pandas as pd\n",
    "url = \"https://gist.githubusercontent.com/tgcsantos/3bdb29eba6ce391e90df2b72205ba891/raw/22fa920e80c9fa209a9fccc8b52d74cc95d1599b/dados_imoveis.csv\"\n",
    "dados = pd.read_csv(url)"
   ]
  },
  {
   "cell_type": "code",
   "execution_count": null,
   "metadata": {
    "colab": {
     "base_uri": "https://localhost:8080/",
     "height": 206
    },
    "id": "7e2Kmt74QnFZ",
    "outputId": "ff83dc37-66e4-412c-e284-4a3f3d6c0032"
   },
   "outputs": [],
   "source": [
    "dados.head()"
   ]
  },
  {
   "cell_type": "code",
   "execution_count": null,
   "metadata": {
    "colab": {
     "base_uri": "https://localhost:8080/",
     "height": 363
    },
    "id": "_RTJqQIiShML",
    "outputId": "b6ea8482-a494-4dc9-8d37-fa1bc122b100"
   },
   "outputs": [],
   "source": [
    "dados.sample(10)"
   ]
  },
  {
   "cell_type": "code",
   "execution_count": null,
   "metadata": {
    "colab": {
     "base_uri": "https://localhost:8080/"
    },
    "id": "PSqqMKMqUcFZ",
    "outputId": "7db0d29b-0b13-44da-e70e-9f4dc7ab8d77"
   },
   "outputs": [],
   "source": [
    "dados.info()"
   ]
  },
  {
   "cell_type": "code",
   "execution_count": null,
   "metadata": {
    "colab": {
     "base_uri": "https://localhost:8080/",
     "height": 36
    },
    "id": "P9rkcINCSiai",
    "outputId": "ab695d56-ebce-46fa-bdde-03a2e68e0324"
   },
   "outputs": [],
   "source": [
    "dados[\"Bairro\"][6522]"
   ]
  },
  {
   "cell_type": "code",
   "execution_count": null,
   "metadata": {
    "colab": {
     "base_uri": "https://localhost:8080/"
    },
    "id": "FYtNWwbkTopx",
    "outputId": "bdcee399-b7c2-4879-b755-060c5569f619"
   },
   "outputs": [],
   "source": [
    "dados.Metragem.mean()"
   ]
  },
  {
   "cell_type": "code",
   "execution_count": null,
   "metadata": {
    "colab": {
     "base_uri": "https://localhost:8080/"
    },
    "id": "CZtnuG1wVDqg",
    "outputId": "73740d0d-afb6-4b62-acb6-11149a2648b4"
   },
   "outputs": [],
   "source": [
    "dados[\"Metragem\"].mean()"
   ]
  },
  {
   "cell_type": "code",
   "execution_count": null,
   "metadata": {
    "colab": {
     "base_uri": "https://localhost:8080/"
    },
    "id": "W-LPCx0qVzvS",
    "outputId": "b73f5706-5a1b-4b8d-bc5e-d49b2eeca4e4"
   },
   "outputs": [],
   "source": [
    "sum((dados[\"Bairro\"] == \"Vila Mariana\"))"
   ]
  },
  {
   "cell_type": "code",
   "execution_count": null,
   "metadata": {
    "colab": {
     "base_uri": "https://localhost:8080/"
    },
    "id": "VPAYgHC3WQmy",
    "outputId": "92b9cc74-468d-4a99-b9c8-fabf505786b8"
   },
   "outputs": [],
   "source": [
    "tem_imoveis_vila =( dados[\"Bairro\"] == \"Vila Mariana\")\n",
    "tem_imoveis_vila"
   ]
  },
  {
   "cell_type": "code",
   "execution_count": null,
   "metadata": {
    "colab": {
     "base_uri": "https://localhost:8080/",
     "height": 424
    },
    "id": "2DnvKduJW39N",
    "outputId": "ac904d69-4365-4411-d975-4392019f33b3"
   },
   "outputs": [],
   "source": [
    "imoveis_vila_mariana = dados[tem_imoveis_vila]\n",
    "imoveis_vila_mariana"
   ]
  },
  {
   "cell_type": "code",
   "execution_count": null,
   "metadata": {
    "colab": {
     "base_uri": "https://localhost:8080/"
    },
    "id": "KAZjmOobXJk8",
    "outputId": "dd97d242-c976-4e3c-a75b-939d1be89e01"
   },
   "outputs": [],
   "source": [
    "imoveis_vila_mariana[\"Metragem\"].mean()"
   ]
  },
  {
   "cell_type": "code",
   "execution_count": null,
   "metadata": {
    "colab": {
     "base_uri": "https://localhost:8080/"
    },
    "id": "pAiOk2ZbXYK8",
    "outputId": "0096524b-5f68-4776-e6ab-023120a08257"
   },
   "outputs": [],
   "source": [
    "dados[\"Bairro\"].value_counts()"
   ]
  },
  {
   "cell_type": "code",
   "execution_count": null,
   "metadata": {
    "colab": {
     "base_uri": "https://localhost:8080/",
     "height": 357
    },
    "id": "2uGH9Ug2Yy4h",
    "outputId": "8756ac24-0275-4500-a942-4feeea50fbe0"
   },
   "outputs": [],
   "source": [
    "n_imoveis_bairro = dados[\"Bairro\"].value_counts()\n",
    "n_imoveis_bairro.head(10).plot.bar()"
   ]
  },
  {
   "cell_type": "markdown",
   "metadata": {
    "id": "ECNTtjSsaTu-"
   },
   "source": [
    "Desafios:\n",
    "\n",
    "1 - Realizar a média da metragem para cara um dos bairros (Paulo)\n",
    "\n",
    "2 - 2 formas de selecionar os dados por bairro (consultar os métodos na documentação do pandas) (Thiago)\n",
    "\n",
    "3 - Explorar alguns gráficos na documentação e aplicar nas demais colunas do DF, tentar colocar alguma conclusão (Thiago)\n",
    "\n",
    "4 - Pegar outros estatísticas dos dados, média, mediana, mim, max (Vivi)\n",
    "\n",
    "5 - Descobrir quais são os bairros que não tem nome de Rua. (Vivi)"
   ]
  },
  {
   "cell_type": "code",
   "execution_count": null,
   "metadata": {
    "colab": {
     "base_uri": "https://localhost:8080/",
     "height": 206
    },
    "id": "zKpdD2UxZXNv",
    "outputId": "abf80277-6cba-44a7-92f6-8bd14d2ff7de"
   },
   "outputs": [],
   "source": [
    "dados.head()"
   ]
  },
  {
   "cell_type": "code",
   "execution_count": null,
   "metadata": {
    "colab": {
     "base_uri": "https://localhost:8080/"
    },
    "id": "xR_GHqjvhVHc",
    "outputId": "86413042-4097-49a0-f0ac-e44b1f4c4521"
   },
   "outputs": [],
   "source": [
    "dados.info()"
   ]
  },
  {
   "cell_type": "code",
   "execution_count": null,
   "metadata": {
    "colab": {
     "base_uri": "https://localhost:8080/",
     "height": 36
    },
    "id": "l_G7jKHEhasI",
    "outputId": "85cd6456-2aca-4cd2-9991-681ab7b9f38b"
   },
   "outputs": [],
   "source": [
    "dados[\"Valor\"][0]"
   ]
  },
  {
   "cell_type": "code",
   "execution_count": null,
   "metadata": {
    "colab": {
     "base_uri": "https://localhost:8080/"
    },
    "id": "3puhnNe0hu5i",
    "outputId": "31c79fc8-84f4-41c7-faa7-b1fe9405aeb9"
   },
   "outputs": [],
   "source": [
    "dados[\"Valor\"][0].split()"
   ]
  },
  {
   "cell_type": "code",
   "execution_count": null,
   "metadata": {
    "colab": {
     "base_uri": "https://localhost:8080/",
     "height": 363
    },
    "id": "RYuhntlBiJUs",
    "outputId": "4136de1b-e38d-4a8b-f656-fcf99b794d6f"
   },
   "outputs": [],
   "source": [
    "dados.sample(10)"
   ]
  },
  {
   "cell_type": "code",
   "execution_count": null,
   "metadata": {
    "colab": {
     "base_uri": "https://localhost:8080/",
     "height": 424
    },
    "id": "MhNLxZ8wiYSY",
    "outputId": "c4be1759-3235-4f34-cc1c-c7302b58217f"
   },
   "outputs": [],
   "source": [
    "dados[\"Valor\"].str.split(expand = True)"
   ]
  },
  {
   "cell_type": "code",
   "execution_count": null,
   "metadata": {
    "colab": {
     "base_uri": "https://localhost:8080/"
    },
    "id": "r9CCGhxMi3Bv",
    "outputId": "c72fdecf-1fd0-4682-a5bf-e83ac0794f4c"
   },
   "outputs": [],
   "source": [
    "len(dados[\"Valor\"].str.split(expand = True)[1].unique())"
   ]
  },
  {
   "cell_type": "code",
   "execution_count": null,
   "metadata": {
    "id": "Sey29FzSkgcK"
   },
   "outputs": [],
   "source": []
  },
  {
   "cell_type": "code",
   "execution_count": null,
   "metadata": {
    "colab": {
     "base_uri": "https://localhost:8080/"
    },
    "id": "phK23wq-jkAD",
    "outputId": "78b84b07-50b3-41b4-b380-530da0f3153a"
   },
   "outputs": [],
   "source": [
    "dados[\"Valor\"].str.split(expand = True)[2].unique()"
   ]
  },
  {
   "cell_type": "code",
   "execution_count": null,
   "metadata": {
    "colab": {
     "base_uri": "https://localhost:8080/",
     "height": 424
    },
    "id": "zxtX299sk7AG",
    "outputId": "fd3e0708-6a7e-4255-ca3e-392fbef73638"
   },
   "outputs": [],
   "source": [
    "dados[[\"Valor\", \"Bairro\"]]"
   ]
  },
  {
   "cell_type": "code",
   "execution_count": null,
   "metadata": {
    "colab": {
     "base_uri": "https://localhost:8080/",
     "height": 206
    },
    "id": "kvmSFmtMkhCi",
    "outputId": "a8289b79-f50d-4571-dd7e-ec55444ea958"
   },
   "outputs": [],
   "source": [
    "dados[[\"Moeda\", \"Valor_anuncio\", \"Tipo_anuncio\"]] = dados[\"Valor\"].str.split(expand = True)\n",
    "dados.head()"
   ]
  },
  {
   "cell_type": "code",
   "execution_count": null,
   "metadata": {
    "colab": {
     "base_uri": "https://localhost:8080/"
    },
    "id": "lrD7YcMXkrq0",
    "outputId": "073011e8-2dc9-47f1-de62-5b969c5df850"
   },
   "outputs": [],
   "source": [
    "dados[dados[\"Tipo_anuncio\"].isnull()][\"Tipo_anuncio\"].unique()"
   ]
  },
  {
   "cell_type": "code",
   "execution_count": null,
   "metadata": {
    "colab": {
     "base_uri": "https://localhost:8080/",
     "height": 424
    },
    "id": "cHbLmfrcl2nn",
    "outputId": "0776068c-80a3-4aef-d1d9-161445e02b8b"
   },
   "outputs": [],
   "source": [
    "dados_vendas = dados[dados[\"Tipo_anuncio\"].isnull()]\n",
    "dados_vendas"
   ]
  },
  {
   "cell_type": "code",
   "execution_count": null,
   "metadata": {
    "colab": {
     "base_uri": "https://localhost:8080/"
    },
    "id": "nHWtFRfImJEC",
    "outputId": "9bde114f-c621-4e61-97dd-9ec8c44f82a7"
   },
   "outputs": [],
   "source": [
    "dados_vendas.info()"
   ]
  },
  {
   "cell_type": "code",
   "execution_count": null,
   "metadata": {
    "colab": {
     "base_uri": "https://localhost:8080/"
    },
    "id": "gd7XVEXFmV_m",
    "outputId": "46b1544d-a547-44e6-b4d4-47292b3e2812"
   },
   "outputs": [],
   "source": [
    "dados_vendas[\"Valor_anuncio\"].str.replace(\".\",\"\").astype(float)"
   ]
  },
  {
   "cell_type": "code",
   "execution_count": null,
   "metadata": {
    "colab": {
     "base_uri": "https://localhost:8080/"
    },
    "id": "L8a-mFvmnx5M",
    "outputId": "0b3c4e39-ff2c-4657-915b-0fec21c33897"
   },
   "outputs": [],
   "source": [
    "dados_vendas[\"Valor_anuncio_float\"] = dados_vendas[\"Valor_anuncio\"].str.replace(\".\",\"\").astype(float)"
   ]
  },
  {
   "cell_type": "code",
   "execution_count": null,
   "metadata": {
    "colab": {
     "base_uri": "https://localhost:8080/"
    },
    "id": "ubBPRUsYoVYV",
    "outputId": "1b41f7bf-471b-42d2-a789-444eba6a7232"
   },
   "outputs": [],
   "source": [
    "dados_vendas.info()"
   ]
  },
  {
   "cell_type": "code",
   "execution_count": null,
   "metadata": {
    "colab": {
     "base_uri": "https://localhost:8080/",
     "height": 296
    },
    "id": "huXp4MBXo3Ma",
    "outputId": "deb3d4a7-15a3-4381-fed5-a07a748dea39"
   },
   "outputs": [],
   "source": [
    "dados_vendas[\"Valor_anuncio_float\"].plot.hist(bins = 50)"
   ]
  },
  {
   "cell_type": "code",
   "execution_count": null,
   "metadata": {
    "colab": {
     "base_uri": "https://localhost:8080/",
     "height": 300
    },
    "id": "cXPlpOJFpGos",
    "outputId": "1618fdce-52cf-4d8d-d1d4-3711e618871f"
   },
   "outputs": [],
   "source": [
    "pd.set_option(\"display.precision\", 2)\n",
    "pd.set_option('display.float_format', lambda x: '%.2f' % x)\n",
    "\n",
    "dados_vendas.describe()"
   ]
  },
  {
   "cell_type": "code",
   "execution_count": null,
   "metadata": {
    "colab": {
     "base_uri": "https://localhost:8080/",
     "height": 175
    },
    "id": "LNnQfxZqqTXa",
    "outputId": "63124c7f-1d4c-407b-f61b-c94cfaee7ddb"
   },
   "outputs": [],
   "source": [
    "dados_vendas[[\"Rua\", \"Bairro\", \"Cidade\"]].describe()"
   ]
  },
  {
   "cell_type": "code",
   "execution_count": null,
   "metadata": {
    "id": "geyXHqX6vyVP"
   },
   "outputs": [],
   "source": []
  },
  {
   "cell_type": "code",
   "execution_count": null,
   "metadata": {
    "colab": {
     "base_uri": "https://localhost:8080/",
     "height": 518
    },
    "id": "OWn9kBVmuIb3",
    "outputId": "46e8b3dd-f12d-4620-dd62-dd0caea7616b"
   },
   "outputs": [],
   "source": [
    "import seaborn as sns\n",
    "import matplotlib.pyplot as plt\n",
    "\n",
    "sns.set()\n",
    "plt.figure(figsize=(10, 8))\n",
    "ax = sns.histplot(data = dados_vendas, x = \"Valor_anuncio_float\", kde = True)\n",
    "ax.set_title(\"Histograma Valor Imóvel\")\n",
    "plt.xlim((-50, 10000000))\n",
    "plt.show()"
   ]
  },
  {
   "cell_type": "markdown",
   "metadata": {
    "id": "H_dU4-UuqpbH"
   },
   "source": [
    "#Desafio Aula 2\n",
    "\n",
    "- Criar uma escala de valores em milhões\n",
    "- Deixar o gráfico do histograma de valores legível (alterar labels, cores, título, escala)\n",
    "- Preço do metro quadrado por bairro e plotar em um gráfico ideal\n",
    "- Explorar as bibliotecas de visualizações e colocar as suas conclusão\n",
    "- Pesquisar um visualização para analisar os quartis, mediana e outliers\n",
    "\n"
   ]
  }
 ],
 "metadata": {
  "colab": {
   "name": "Imersao_dados_4_aula02.ipynb",
   "provenance": []
  },
  "kernelspec": {
   "display_name": "Python 3 (ipykernel)",
   "language": "python",
   "name": "python3"
  },
  "language_info": {
   "codemirror_mode": {
    "name": "ipython",
    "version": 3
   },
   "file_extension": ".py",
   "mimetype": "text/x-python",
   "name": "python",
   "nbconvert_exporter": "python",
   "pygments_lexer": "ipython3",
   "version": "3.9.7"
  }
 },
 "nbformat": 4,
 "nbformat_minor": 1
}
